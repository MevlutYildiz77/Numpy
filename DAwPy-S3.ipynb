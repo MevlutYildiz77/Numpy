{
 "cells": [
  {
   "cell_type": "markdown",
   "id": "spread-prague",
   "metadata": {},
   "source": [
    "<h1><span style=\"text-align: center;\">Session - 3</span><h1>"
   ]
  },
  {
   "cell_type": "markdown",
   "id": "sharing-requirement",
   "metadata": {},
   "source": [
    "* ``np.mean(arr,axis=0)`` | Returns mean along specific axis\n",
    "\n",
    "* ``arr.sum()`` | Returns sum of arr\n",
    "\n",
    "* ``arr.min()`` | Returns minimum value of arr\n",
    "\n",
    "* ``arr.max(axis=0)`` | Returns maximum value of specific axis\n",
    "\n",
    "* ``np.var(arr)`` | Returns the variance of array\n",
    "\n",
    "* ``np.std(arr,axis=1)`` | Returns the standard deviation of specific axis\n",
    "\n",
    "* ``arr.corrcoef()`` | Returns correlation coefficient of array\n",
    "\n",
    "## You can take a look at an attractive [official tutorial](https://numpy.org/devdocs/user/absolute_beginners.html) for beginners of NumPy."
   ]
  },
  {
   "cell_type": "markdown",
   "id": "coupled-tattoo",
   "metadata": {},
   "source": [
    "## Numpy Array Selection\n",
    "\n",
    "Let's briefly go over how to use brackets for selection based off of comparison operators."
   ]
  },
  {
   "cell_type": "code",
   "execution_count": 110,
   "id": "resistant-function",
   "metadata": {},
   "outputs": [],
   "source": [
    "import numpy as np\n",
    "import pandas as pd\n",
    "import matplotlib.pyplot as plt\n",
    "import seaborn as sns\n",
    "%matplotlib inline"
   ]
  },
  {
   "cell_type": "code",
   "execution_count": 111,
   "id": "loaded-fiction",
   "metadata": {},
   "outputs": [
    {
     "data": {
      "text/plain": [
       "array([40, 25, 25, 26, 30, 32, 42, 34, 26, 28, 44, 31, 30, 29, 37, 43, 33,\n",
       "       28, 27, 42, 28, 27, 36, 42, 37, 25, 32, 37, 27, 37, 33, 35, 33, 44,\n",
       "       35, 31, 36, 31, 31, 28, 36, 36, 29, 37, 29, 25, 33, 28, 27, 36])"
      ]
     },
     "execution_count": 111,
     "metadata": {},
     "output_type": "execute_result"
    }
   ],
   "source": [
    "age = np.random.randint(25,45,50)\n",
    "age"
   ]
  },
  {
   "cell_type": "code",
   "execution_count": 112,
   "id": "independent-volunteer",
   "metadata": {},
   "outputs": [],
   "source": [
    "age[0:2] = -1\n",
    "age[2:4] = 99"
   ]
  },
  {
   "cell_type": "code",
   "execution_count": 113,
   "id": "independent-algorithm",
   "metadata": {},
   "outputs": [
    {
     "data": {
      "text/plain": [
       "array([-1, -1, 99, 99, 30, 32, 42, 34, 26, 28, 44, 31, 30, 29, 37, 43, 33,\n",
       "       28, 27, 42, 28, 27, 36, 42, 37, 25, 32, 37, 27, 37, 33, 35, 33, 44,\n",
       "       35, 31, 36, 31, 31, 28, 36, 36, 29, 37, 29, 25, 33, 28, 27, 36])"
      ]
     },
     "execution_count": 113,
     "metadata": {},
     "output_type": "execute_result"
    }
   ],
   "source": [
    "age"
   ]
  },
  {
   "cell_type": "code",
   "execution_count": 114,
   "id": "greek-lighter",
   "metadata": {},
   "outputs": [
    {
     "data": {
      "image/png": "[encoded data removed]",
      "text/plain": [
       "<Figure size 432x288 with 1 Axes>"
      ]
     },
     "metadata": {
      "needs_background": "light"
     },
     "output_type": "display_data"
    }
   ],
   "source": [
    "plt.hist(age,bins=40)\n",
    "plt.show()"
   ]
  },
  {
   "cell_type": "code",
   "execution_count": 115,
   "id": "arranged-harvest",
   "metadata": {},
   "outputs": [
    {
     "data": {
      "image/png": "[encoded data removed]",
      "text/plain": [
       "<Figure size 432x288 with 1 Axes>"
      ]
     },
     "metadata": {
      "needs_background": "light"
     },
     "output_type": "display_data"
    }
   ],
   "source": [
    "plt.boxplot(age)\n",
    "plt.show()"
   ]
  },
  {
   "cell_type": "code",
   "execution_count": 116,
   "id": "color-digit",
   "metadata": {},
   "outputs": [
    {
     "data": {
      "text/plain": [
       "array([-1, -1])"
      ]
     },
     "execution_count": 116,
     "metadata": {},
     "output_type": "execute_result"
    }
   ],
   "source": [
    "age[ age < 25]"
   ]
  },
  {
   "cell_type": "code",
   "execution_count": 117,
   "id": "neural-orbit",
   "metadata": {},
   "outputs": [
    {
     "data": {
      "text/plain": [
       "array([99, 99])"
      ]
     },
     "execution_count": 117,
     "metadata": {},
     "output_type": "execute_result"
    }
   ],
   "source": [
    "age[age>50]"
   ]
  },
  {
   "cell_type": "code",
   "execution_count": 118,
   "id": "gentle-concert",
   "metadata": {},
   "outputs": [
    {
     "name": "stdout",
     "output_type": "stream",
     "text": [
      "-1\n",
      "-1\n"
     ]
    }
   ],
   "source": [
    "for i in range(len(age)):\n",
    "    if age[i]<25:\n",
    "        print(age[i])"
   ]
  },
  {
   "cell_type": "code",
   "execution_count": 119,
   "id": "silver-operation",
   "metadata": {},
   "outputs": [
    {
     "data": {
      "text/plain": [
       "array([-1, -1, 99, 99, 30, 32, 42, 34, 26, 28, 44, 31, 30, 29, 37, 43, 33,\n",
       "       28, 27, 42, 28, 27, 36, 42, 37, 25, 32, 37, 27, 37, 33, 35, 33, 44,\n",
       "       35, 31, 36, 31, 31, 28, 36, 36, 29, 37, 29, 25, 33, 28, 27, 36])"
      ]
     },
     "execution_count": 119,
     "metadata": {},
     "output_type": "execute_result"
    }
   ],
   "source": [
    "age"
   ]
  },
  {
   "cell_type": "code",
   "execution_count": 120,
   "id": "modified-eagle",
   "metadata": {},
   "outputs": [
    {
     "data": {
      "text/plain": [
       "array([False, False,  True,  True, False, False, False, False, False,\n",
       "       False, False, False, False, False, False, False, False, False,\n",
       "       False, False, False, False, False, False, False, False, False,\n",
       "       False, False, False, False, False, False, False, False, False,\n",
       "       False, False, False, False, False, False, False, False, False,\n",
       "       False, False, False, False, False])"
      ]
     },
     "execution_count": 120,
     "metadata": {},
     "output_type": "execute_result"
    }
   ],
   "source": [
    "age > 50"
   ]
  },
  {
   "cell_type": "code",
   "execution_count": 121,
   "id": "alien-paradise",
   "metadata": {},
   "outputs": [
    {
     "data": {
      "text/plain": [
       "array([-1, -1, 34, 34, 30, 32, 42, 34, 26, 28, 44, 31, 30, 29, 37, 43, 33,\n",
       "       28, 27, 42, 28, 27, 36, 42, 37, 25, 32, 37, 27, 37, 33, 35, 33, 44,\n",
       "       35, 31, 36, 31, 31, 28, 36, 36, 29, 37, 29, 25, 33, 28, 27, 36])"
      ]
     },
     "execution_count": 121,
     "metadata": {},
     "output_type": "execute_result"
    }
   ],
   "source": [
    "age[ age>50 ] = age.mean()\n",
    "age"
   ]
  },
  {
   "cell_type": "code",
   "execution_count": 122,
   "id": "fewer-reporter",
   "metadata": {},
   "outputs": [
    {
     "data": {
      "text/plain": [
       "array([31, 31, 34, 34, 30, 32, 42, 34, 26, 28, 44, 31, 30, 29, 37, 43, 33,\n",
       "       28, 27, 42, 28, 27, 36, 42, 37, 25, 32, 37, 27, 37, 33, 35, 33, 44,\n",
       "       35, 31, 36, 31, 31, 28, 36, 36, 29, 37, 29, 25, 33, 28, 27, 36])"
      ]
     },
     "execution_count": 122,
     "metadata": {},
     "output_type": "execute_result"
    }
   ],
   "source": [
    "age[ age<25 ] = age.mean()\n",
    "age"
   ]
  },
  {
   "cell_type": "code",
   "execution_count": 123,
   "id": "precise-presence",
   "metadata": {},
   "outputs": [
    {
     "data": {
      "text/plain": [
       "array([31, 31, 34, 34, 30, 32, 42, 34, 26, 28, 44, 31, 30, 29, 37, 43, 33,\n",
       "       28, 27, 42, 28, 27, 36, 42, 37, 25, 32, 37, 27, 37, 33, 35, 33, 44,\n",
       "       35, 31, 36, 31, 31, 28, 36, 36, 29, 37, 29, 25, 33, 28, 27, 36])"
      ]
     },
     "execution_count": 123,
     "metadata": {},
     "output_type": "execute_result"
    }
   ],
   "source": [
    "\n",
    "age[ (age<25) | (age>50) ] = age.mean()\n",
    "age"
   ]
  },
  {
   "cell_type": "code",
   "execution_count": 124,
   "id": "common-ladder",
   "metadata": {},
   "outputs": [
    {
     "data": {
      "text/plain": [
       "array([34, 34, 34, 34, 30, 32, 42, 34, 26, 28, 44, 31, 30, 29, 37, 43, 33,\n",
       "       28, 27, 42, 28, 27, 36, 42, 37, 25, 32, 37, 27, 37, 33, 35, 33, 44,\n",
       "       35, 31, 36, 31, 31, 28, 36, 36, 29, 37, 29, 25, 33, 28, 27, 36])"
      ]
     },
     "execution_count": 124,
     "metadata": {},
     "output_type": "execute_result"
    }
   ],
   "source": [
    "age[0:2] = -1\n",
    "age[2:4] = 99\n",
    "\n",
    "age[ (age<25) | (age>50) ] = age.mean()\n",
    "age\n"
   ]
  },
  {
   "cell_type": "code",
   "execution_count": null,
   "id": "italic-choir",
   "metadata": {},
   "outputs": [],
   "source": []
  },
  {
   "cell_type": "code",
   "execution_count": null,
   "id": "military-preservation",
   "metadata": {},
   "outputs": [],
   "source": []
  },
  {
   "cell_type": "markdown",
   "id": "purple-sharing",
   "metadata": {},
   "source": [
    "# Sort"
   ]
  },
  {
   "cell_type": "code",
   "execution_count": 125,
   "id": "operational-subcommittee",
   "metadata": {},
   "outputs": [
    {
     "data": {
      "text/plain": [
       "[-5, 0, 2, 2, 3, 6, 7, 8]"
      ]
     },
     "execution_count": 125,
     "metadata": {},
     "output_type": "execute_result"
    }
   ],
   "source": [
    "sorted([7,3,6,2,8,2,0,-5])"
   ]
  },
  {
   "cell_type": "code",
   "execution_count": 126,
   "id": "magnetic-scott",
   "metadata": {},
   "outputs": [
    {
     "data": {
      "text/plain": [
       "array([25, 25, 26, 27, 27, 27, 27, 28, 28, 28, 28, 28, 29, 29, 29, 30, 30,\n",
       "       31, 31, 31, 31, 32, 32, 33, 33, 33, 33, 34, 34, 34, 34, 34, 35, 35,\n",
       "       36, 36, 36, 36, 36, 37, 37, 37, 37, 37, 42, 42, 42, 43, 44, 44])"
      ]
     },
     "execution_count": 126,
     "metadata": {},
     "output_type": "execute_result"
    }
   ],
   "source": [
    "age.sort()\n",
    "age"
   ]
  },
  {
   "cell_type": "code",
   "execution_count": 127,
   "id": "solved-bunch",
   "metadata": {},
   "outputs": [
    {
     "data": {
      "text/plain": [
       "array([25, 25, 26, 27, 27, 27, 27, 28, 28, 28, 28, 28, 29, 29, 29, 30, 30,\n",
       "       31, 31, 31, 31, 32, 32, 33, 33, 33, 33, 34, 34, 34, 34, 34, 35, 35,\n",
       "       36, 36, 36, 36, 36, 37, 37, 37, 37, 37, 42, 42, 42, 43, 44, 44])"
      ]
     },
     "execution_count": 127,
     "metadata": {},
     "output_type": "execute_result"
    }
   ],
   "source": [
    "age.sort()\n",
    "age"
   ]
  },
  {
   "cell_type": "code",
   "execution_count": 128,
   "id": "connected-wiring",
   "metadata": {},
   "outputs": [
    {
     "data": {
      "text/plain": [
       "array([44, 44, 43, 42, 42, 42, 37, 37, 37, 37, 37, 36, 36, 36, 36, 36, 35,\n",
       "       35, 34, 34, 34, 34, 34, 33, 33, 33, 33, 32, 32, 31, 31, 31, 31, 30,\n",
       "       30, 29, 29, 29, 28, 28, 28, 28, 28, 27, 27, 27, 27, 26, 25, 25])"
      ]
     },
     "execution_count": 128,
     "metadata": {},
     "output_type": "execute_result"
    }
   ],
   "source": [
    "age[::-1]"
   ]
  },
  {
   "cell_type": "code",
   "execution_count": 129,
   "id": "occasional-latin",
   "metadata": {},
   "outputs": [
    {
     "ename": "TypeError",
     "evalue": "'reverse' is an invalid keyword argument for sort()",
     "output_type": "error",
     "traceback": [
      "\u001b[1;31m---------------------------------------------------------------------------\u001b[0m",
      "\u001b[1;31mTypeError\u001b[0m                                 Traceback (most recent call last)",
      "\u001b[1;32m~\\AppData\\Local\\Temp/ipykernel_5388/2928279689.py\u001b[0m in \u001b[0;36m<module>\u001b[1;34m\u001b[0m\n\u001b[0;32m      1\u001b[0m \u001b[1;31m# please search\u001b[0m\u001b[1;33m\u001b[0m\u001b[1;33m\u001b[0m\u001b[1;33m\u001b[0m\u001b[0m\n\u001b[1;32m----> 2\u001b[1;33m \u001b[0mage\u001b[0m\u001b[1;33m.\u001b[0m\u001b[0msort\u001b[0m\u001b[1;33m(\u001b[0m\u001b[0mreverse\u001b[0m\u001b[1;33m=\u001b[0m\u001b[1;32mTrue\u001b[0m\u001b[1;33m)\u001b[0m\u001b[1;33m\u001b[0m\u001b[1;33m\u001b[0m\u001b[0m\n\u001b[0m",
      "\u001b[1;31mTypeError\u001b[0m: 'reverse' is an invalid keyword argument for sort()"
     ]
    }
   ],
   "source": [
    "# please search\n",
    "age.sort(reverse=True)"
   ]
  },
  {
   "cell_type": "markdown",
   "id": "median-holder",
   "metadata": {},
   "source": [
    "\n",
    "\n",
    "<h1><p style=\"text-align: center;\">Pandas Series, Session - 3</p><h1>\n"
   ]
  },
  {
   "cell_type": "code",
   "execution_count": null,
   "id": "imported-assignment",
   "metadata": {},
   "outputs": [],
   "source": [
    "import numpy as np\n",
    "import pandas as pd"
   ]
  },
  {
   "cell_type": "code",
   "execution_count": null,
   "id": "voluntary-correction",
   "metadata": {},
   "outputs": [
    {
     "data": {
      "text/plain": [
       "0    11\n",
       "1    21\n",
       "2    13\n",
       "3    41\n",
       "4    15\n",
       "5    61\n",
       "dtype: int64"
      ]
     },
     "execution_count": 53,
     "metadata": {},
     "output_type": "execute_result"
    }
   ],
   "source": [
    "# np.array([1,2,3,4,5])\n",
    "serr = pd.Series([11,21,13,41,15,61])\n",
    "serr"
   ]
  },
  {
   "cell_type": "code",
   "execution_count": null,
   "id": "twenty-exploration",
   "metadata": {},
   "outputs": [
    {
     "data": {
      "text/plain": [
       "pandas.core.series.Series"
      ]
     },
     "execution_count": 54,
     "metadata": {},
     "output_type": "execute_result"
    }
   ],
   "source": [
    "type(serr)"
   ]
  },
  {
   "cell_type": "code",
   "execution_count": null,
   "id": "distinguished-potter",
   "metadata": {},
   "outputs": [
    {
     "data": {
      "text/plain": [
       "6"
      ]
     },
     "execution_count": 55,
     "metadata": {},
     "output_type": "execute_result"
    }
   ],
   "source": [
    "serr.size"
   ]
  },
  {
   "cell_type": "code",
   "execution_count": null,
   "id": "exciting-waterproof",
   "metadata": {},
   "outputs": [
    {
     "data": {
      "text/plain": [
       "6"
      ]
     },
     "execution_count": 56,
     "metadata": {},
     "output_type": "execute_result"
    }
   ],
   "source": [
    "len(serr)"
   ]
  },
  {
   "cell_type": "code",
   "execution_count": null,
   "id": "auburn-surveillance",
   "metadata": {},
   "outputs": [
    {
     "data": {
      "text/plain": [
       "1"
      ]
     },
     "execution_count": 57,
     "metadata": {},
     "output_type": "execute_result"
    }
   ],
   "source": [
    "serr.ndim"
   ]
  },
  {
   "cell_type": "code",
   "execution_count": null,
   "id": "colored-stress",
   "metadata": {},
   "outputs": [
    {
     "data": {
      "text/plain": [
       "array([11, 21, 13, 41, 15, 61], dtype=int64)"
      ]
     },
     "execution_count": 58,
     "metadata": {},
     "output_type": "execute_result"
    }
   ],
   "source": [
    "serr.values"
   ]
  },
  {
   "cell_type": "code",
   "execution_count": null,
   "id": "english-shield",
   "metadata": {},
   "outputs": [
    {
     "data": {
      "text/plain": [
       "[11, 21, 13, 41, 15, 61]"
      ]
     },
     "execution_count": 60,
     "metadata": {},
     "output_type": "execute_result"
    }
   ],
   "source": [
    "[i for i in serr.values]"
   ]
  },
  {
   "cell_type": "code",
   "execution_count": null,
   "id": "incorrect-shield",
   "metadata": {},
   "outputs": [
    {
     "data": {
      "text/plain": [
       "0     11\n",
       "1     21\n",
       "2     13\n",
       "3     41\n",
       "4     15\n",
       "5     61\n",
       "6     11\n",
       "7     21\n",
       "8     13\n",
       "9     41\n",
       "10    15\n",
       "11    61\n",
       "12    11\n",
       "13    21\n",
       "14    13\n",
       "15    41\n",
       "16    15\n",
       "17    61\n",
       "dtype: int64"
      ]
     },
     "execution_count": 61,
     "metadata": {},
     "output_type": "execute_result"
    }
   ],
   "source": [
    "serr2 = pd.Series([11,21,13,41,15,61,11,21,13,41,15,61,11,21,13,41,15,61])\n",
    "serr2"
   ]
  },
  {
   "cell_type": "code",
   "execution_count": null,
   "id": "grave-galaxy",
   "metadata": {},
   "outputs": [
    {
     "data": {
      "text/plain": [
       "0    11\n",
       "1    21\n",
       "2    13\n",
       "3    41\n",
       "4    15\n",
       "dtype: int64"
      ]
     },
     "execution_count": 62,
     "metadata": {},
     "output_type": "execute_result"
    }
   ],
   "source": [
    "serr2.head()"
   ]
  },
  {
   "cell_type": "code",
   "execution_count": null,
   "id": "worst-shannon",
   "metadata": {},
   "outputs": [
    {
     "data": {
      "text/plain": [
       "0    11\n",
       "1    21\n",
       "2    13\n",
       "3    41\n",
       "4    15\n",
       "5    61\n",
       "6    11\n",
       "7    21\n",
       "8    13\n",
       "9    41\n",
       "dtype: int64"
      ]
     },
     "execution_count": 63,
     "metadata": {},
     "output_type": "execute_result"
    }
   ],
   "source": [
    "serr2.head(10)"
   ]
  },
  {
   "cell_type": "code",
   "execution_count": null,
   "id": "prime-count",
   "metadata": {},
   "outputs": [
    {
     "data": {
      "text/plain": [
       "15    41\n",
       "16    15\n",
       "17    61\n",
       "dtype: int64"
      ]
     },
     "execution_count": 64,
     "metadata": {},
     "output_type": "execute_result"
    }
   ],
   "source": [
    "serr2.tail(3)"
   ]
  },
  {
   "cell_type": "code",
   "execution_count": null,
   "id": "removable-mathematics",
   "metadata": {},
   "outputs": [
    {
     "data": {
      "text/plain": [
       "['c', 'l', 'a', 'r', 'u', 's', 'w', 'a', 'y']"
      ]
     },
     "execution_count": 67,
     "metadata": {},
     "output_type": "execute_result"
    }
   ],
   "source": [
    "list(\"clarusway\")"
   ]
  },
  {
   "cell_type": "code",
   "execution_count": null,
   "id": "headed-allah",
   "metadata": {},
   "outputs": [
    {
     "data": {
      "text/plain": [
       "0    c\n",
       "1    l\n",
       "2    a\n",
       "3    r\n",
       "4    u\n",
       "5    s\n",
       "6    w\n",
       "7    a\n",
       "8    y\n",
       "dtype: object"
      ]
     },
     "execution_count": 68,
     "metadata": {},
     "output_type": "execute_result"
    }
   ],
   "source": [
    "pd.Series(list(\"clarusway\"))"
   ]
  },
  {
   "cell_type": "code",
   "execution_count": null,
   "id": "christian-knight",
   "metadata": {},
   "outputs": [
    {
     "data": {
      "text/plain": [
       "x     paris\n",
       "y    london\n",
       "z    ankara\n",
       "dtype: object"
      ]
     },
     "execution_count": 69,
     "metadata": {},
     "output_type": "execute_result"
    }
   ],
   "source": [
    "data = [\"paris\", \"london\", \"ankara\"]\n",
    "index = [\"x\",\"y\",\"z\"]  # label\n",
    "\n",
    "pd.Series(data,index)"
   ]
  },
  {
   "cell_type": "code",
   "execution_count": null,
   "id": "republican-prince",
   "metadata": {},
   "outputs": [
    {
     "data": {
      "text/plain": [
       "D    70.0\n",
       "E    60.0\n",
       "A    90.0\n",
       "B    85.0\n",
       "C    99.5\n",
       "dtype: float64"
      ]
     },
     "execution_count": 70,
     "metadata": {},
     "output_type": "execute_result"
    }
   ],
   "source": [
    "Score = [70,60, 90,85, 99.5]\n",
    "index = [\"D\", \"E\", \"A\",\"B\",\"C\"]\n",
    "pd.Series(Score, index)\n",
    "\n",
    "#    pd.Series([70,60, 90,85, 99.5], [\"D\", \"E\", \"A\",\"B\",\"C\"])\n"
   ]
  },
  {
   "cell_type": "code",
   "execution_count": null,
   "id": "objective-operations",
   "metadata": {},
   "outputs": [
    {
     "data": {
      "text/plain": [
       "D    10.0\n",
       "E    20.0\n",
       "A   -30.0\n",
       "B    99.0\n",
       "C     1.1\n",
       "dtype: float64"
      ]
     },
     "execution_count": 73,
     "metadata": {},
     "output_type": "execute_result"
    }
   ],
   "source": [
    "dic = {\"D\":10, \"E\":20, \"A\":-30,\"B\": 99,\"C\":1.1 }\n",
    "\n",
    "pd.Series(dic)"
   ]
  },
  {
   "cell_type": "code",
   "execution_count": null,
   "id": "skilled-vertical",
   "metadata": {},
   "outputs": [
    {
     "data": {
      "text/plain": [
       "{2, 3, 4, 5, 32, 45}"
      ]
     },
     "execution_count": 23,
     "metadata": {},
     "output_type": "execute_result"
    }
   ],
   "source": [
    "a = set([3,2,45,4,3,4,32,4,5,5,4])\n",
    "a"
   ]
  },
  {
   "cell_type": "code",
   "execution_count": 130,
   "id": "descending-monkey",
   "metadata": {},
   "outputs": [
    {
     "ename": "TypeError",
     "evalue": "'set' type is unordered",
     "output_type": "error",
     "traceback": [
      "\u001b[1;31m---------------------------------------------------------------------------\u001b[0m",
      "\u001b[1;31mTypeError\u001b[0m                                 Traceback (most recent call last)",
      "\u001b[1;32m~\\AppData\\Local\\Temp/ipykernel_5388/3022996660.py\u001b[0m in \u001b[0;36m<module>\u001b[1;34m\u001b[0m\n\u001b[1;32m----> 1\u001b[1;33m \u001b[0mpd\u001b[0m\u001b[1;33m.\u001b[0m\u001b[0mSeries\u001b[0m\u001b[1;33m(\u001b[0m\u001b[1;33m(\u001b[0m\u001b[0ma\u001b[0m\u001b[1;33m)\u001b[0m\u001b[1;33m)\u001b[0m\u001b[1;33m\u001b[0m\u001b[1;33m\u001b[0m\u001b[0m\n\u001b[0m",
      "\u001b[1;32m~\\anaconda3\\envs\\my-env\\lib\\site-packages\\pandas\\core\\series.py\u001b[0m in \u001b[0;36m__init__\u001b[1;34m(self, data, index, dtype, name, copy, fastpath)\u001b[0m\n\u001b[0;32m    437\u001b[0m                     \u001b[0mdata\u001b[0m \u001b[1;33m=\u001b[0m \u001b[0mdata\u001b[0m\u001b[1;33m.\u001b[0m\u001b[0mcopy\u001b[0m\u001b[1;33m(\u001b[0m\u001b[1;33m)\u001b[0m\u001b[1;33m\u001b[0m\u001b[1;33m\u001b[0m\u001b[0m\n\u001b[0;32m    438\u001b[0m             \u001b[1;32melse\u001b[0m\u001b[1;33m:\u001b[0m\u001b[1;33m\u001b[0m\u001b[1;33m\u001b[0m\u001b[0m\n\u001b[1;32m--> 439\u001b[1;33m                 \u001b[0mdata\u001b[0m \u001b[1;33m=\u001b[0m \u001b[0msanitize_array\u001b[0m\u001b[1;33m(\u001b[0m\u001b[0mdata\u001b[0m\u001b[1;33m,\u001b[0m \u001b[0mindex\u001b[0m\u001b[1;33m,\u001b[0m \u001b[0mdtype\u001b[0m\u001b[1;33m,\u001b[0m \u001b[0mcopy\u001b[0m\u001b[1;33m)\u001b[0m\u001b[1;33m\u001b[0m\u001b[1;33m\u001b[0m\u001b[0m\n\u001b[0m\u001b[0;32m    440\u001b[0m \u001b[1;33m\u001b[0m\u001b[0m\n\u001b[0;32m    441\u001b[0m                 \u001b[0mmanager\u001b[0m \u001b[1;33m=\u001b[0m \u001b[0mget_option\u001b[0m\u001b[1;33m(\u001b[0m\u001b[1;34m\"mode.data_manager\"\u001b[0m\u001b[1;33m)\u001b[0m\u001b[1;33m\u001b[0m\u001b[1;33m\u001b[0m\u001b[0m\n",
      "\u001b[1;32m~\\anaconda3\\envs\\my-env\\lib\\site-packages\\pandas\\core\\construction.py\u001b[0m in \u001b[0;36msanitize_array\u001b[1;34m(data, index, dtype, copy, raise_cast_failure, allow_2d)\u001b[0m\n\u001b[0;32m    558\u001b[0m         \u001b[1;32mif\u001b[0m \u001b[0misinstance\u001b[0m\u001b[1;33m(\u001b[0m\u001b[0mdata\u001b[0m\u001b[1;33m,\u001b[0m \u001b[1;33m(\u001b[0m\u001b[0mset\u001b[0m\u001b[1;33m,\u001b[0m \u001b[0mfrozenset\u001b[0m\u001b[1;33m)\u001b[0m\u001b[1;33m)\u001b[0m\u001b[1;33m:\u001b[0m\u001b[1;33m\u001b[0m\u001b[1;33m\u001b[0m\u001b[0m\n\u001b[0;32m    559\u001b[0m             \u001b[1;31m# Raise only for unordered sets, e.g., not for dict_keys\u001b[0m\u001b[1;33m\u001b[0m\u001b[1;33m\u001b[0m\u001b[1;33m\u001b[0m\u001b[0m\n\u001b[1;32m--> 560\u001b[1;33m             \u001b[1;32mraise\u001b[0m \u001b[0mTypeError\u001b[0m\u001b[1;33m(\u001b[0m\u001b[1;34mf\"'{type(data).__name__}' type is unordered\"\u001b[0m\u001b[1;33m)\u001b[0m\u001b[1;33m\u001b[0m\u001b[1;33m\u001b[0m\u001b[0m\n\u001b[0m\u001b[0;32m    561\u001b[0m \u001b[1;33m\u001b[0m\u001b[0m\n\u001b[0;32m    562\u001b[0m         \u001b[1;31m# materialize e.g. generators, convert e.g. tuples, abc.ValueView\u001b[0m\u001b[1;33m\u001b[0m\u001b[1;33m\u001b[0m\u001b[1;33m\u001b[0m\u001b[0m\n",
      "\u001b[1;31mTypeError\u001b[0m: 'set' type is unordered"
     ]
    }
   ],
   "source": [
    "pd.Series((a))"
   ]
  },
  {
   "cell_type": "code",
   "execution_count": null,
   "id": "vocal-consolidation",
   "metadata": {},
   "outputs": [
    {
     "data": {
      "text/plain": [
       "0    32\n",
       "1     2\n",
       "2     3\n",
       "3     4\n",
       "4     5\n",
       "5    45\n",
       "dtype: int64"
      ]
     },
     "execution_count": 80,
     "metadata": {},
     "output_type": "execute_result"
    }
   ],
   "source": [
    "pd.Series(list(a))"
   ]
  },
  {
   "cell_type": "code",
   "execution_count": null,
   "id": "decimal-commercial",
   "metadata": {},
   "outputs": [],
   "source": [
    "ser1 = pd.Series([1,2,3,4], index = ['USA', 'Germany','USSR', 'Japan'])   \n",
    "ser2 = pd.Series([1,2,5,4], index = ['USA', 'Germany','Italy', 'Japan'])"
   ]
  },
  {
   "cell_type": "code",
   "execution_count": null,
   "id": "friendly-highway",
   "metadata": {},
   "outputs": [
    {
     "data": {
      "text/plain": [
       "USA        1\n",
       "Germany    2\n",
       "USSR       3\n",
       "Japan      4\n",
       "dtype: int64"
      ]
     },
     "execution_count": 85,
     "metadata": {},
     "output_type": "execute_result"
    }
   ],
   "source": [
    "ser1"
   ]
  },
  {
   "cell_type": "code",
   "execution_count": null,
   "id": "popular-instruction",
   "metadata": {},
   "outputs": [
    {
     "data": {
      "text/plain": [
       "Index(['USA', 'Germany', 'USSR', 'Japan'], dtype='object')"
      ]
     },
     "execution_count": 86,
     "metadata": {},
     "output_type": "execute_result"
    }
   ],
   "source": [
    "ser1.index"
   ]
  },
  {
   "cell_type": "code",
   "execution_count": null,
   "id": "funny-canal",
   "metadata": {},
   "outputs": [
    {
     "data": {
      "text/plain": [
       "array([1, 2, 3, 4], dtype=int64)"
      ]
     },
     "execution_count": 87,
     "metadata": {},
     "output_type": "execute_result"
    }
   ],
   "source": [
    "ser1.values"
   ]
  },
  {
   "cell_type": "code",
   "execution_count": null,
   "id": "constant-holly",
   "metadata": {},
   "outputs": [
    {
     "data": {
      "text/plain": [
       "Germany    2\n",
       "Japan      4\n",
       "USA        1\n",
       "USSR       3\n",
       "dtype: int64"
      ]
     },
     "execution_count": 89,
     "metadata": {},
     "output_type": "execute_result"
    }
   ],
   "source": [
    "ser1.sort_index()"
   ]
  },
  {
   "cell_type": "code",
   "execution_count": null,
   "id": "alert-bachelor",
   "metadata": {},
   "outputs": [
    {
     "data": {
      "text/plain": [
       "USA        1\n",
       "Germany    2\n",
       "USSR       3\n",
       "Japan      4\n",
       "dtype: int64"
      ]
     },
     "execution_count": 90,
     "metadata": {},
     "output_type": "execute_result"
    }
   ],
   "source": [
    "ser1.sort_values()"
   ]
  },
  {
   "cell_type": "code",
   "execution_count": null,
   "id": "latter-agriculture",
   "metadata": {},
   "outputs": [
    {
     "data": {
      "text/plain": [
       "USA        1\n",
       "Germany    2\n",
       "Japan      4\n",
       "Italy      5\n",
       "dtype: int64"
      ]
     },
     "execution_count": 91,
     "metadata": {},
     "output_type": "execute_result"
    }
   ],
   "source": [
    "ser2.sort_values()"
   ]
  },
  {
   "cell_type": "code",
   "execution_count": null,
   "id": "valid-mainland",
   "metadata": {},
   "outputs": [
    {
     "data": {
      "text/plain": [
       "2"
      ]
     },
     "execution_count": 92,
     "metadata": {},
     "output_type": "execute_result"
    }
   ],
   "source": [
    "ser1[\"Germany\"]"
   ]
  },
  {
   "cell_type": "code",
   "execution_count": null,
   "id": "detailed-wireless",
   "metadata": {},
   "outputs": [
    {
     "data": {
      "text/plain": [
       "4"
      ]
     },
     "execution_count": 93,
     "metadata": {},
     "output_type": "execute_result"
    }
   ],
   "source": [
    "ser1[\"Japan\"]"
   ]
  },
  {
   "cell_type": "code",
   "execution_count": null,
   "id": "french-young",
   "metadata": {},
   "outputs": [
    {
     "data": {
      "text/plain": [
       "Japan      4\n",
       "Germany    2\n",
       "dtype: int64"
      ]
     },
     "execution_count": 95,
     "metadata": {},
     "output_type": "execute_result"
    }
   ],
   "source": [
    "ser1[[\"Japan\",\"Germany\"]]"
   ]
  },
  {
   "cell_type": "code",
   "execution_count": null,
   "id": "virtual-combat",
   "metadata": {},
   "outputs": [
    {
     "data": {
      "text/plain": [
       "4"
      ]
     },
     "execution_count": 96,
     "metadata": {},
     "output_type": "execute_result"
    }
   ],
   "source": [
    "ser1.Japan"
   ]
  },
  {
   "cell_type": "code",
   "execution_count": null,
   "id": "minute-breach",
   "metadata": {},
   "outputs": [
    {
     "data": {
      "text/plain": [
       "Germany    4.0\n",
       "Italy      NaN\n",
       "Japan      8.0\n",
       "USA        2.0\n",
       "USSR       NaN\n",
       "dtype: float64"
      ]
     },
     "execution_count": 97,
     "metadata": {},
     "output_type": "execute_result"
    }
   ],
   "source": [
    "ser1 + ser2"
   ]
  },
  {
   "cell_type": "code",
   "execution_count": null,
   "id": "frozen-official",
   "metadata": {},
   "outputs": [
    {
     "data": {
      "text/plain": [
       "terry      121\n",
       "micheal    200\n",
       "orion      150\n",
       "jason       99\n",
       "adam       145\n",
       "thomas     120\n",
       "zack       180\n",
       "dtype: int64"
      ]
     },
     "execution_count": 99,
     "metadata": {},
     "output_type": "execute_result"
    }
   ],
   "source": [
    "panser = pd.Series(data   = [121, 200, 150, 99, 145, 120, 180], \n",
    "                    index = [\"terry\", \"micheal\", \"orion\", \"jason\",\"adam\", \"thomas\", \"zack\"])\n",
    "panser"
   ]
  },
  {
   "cell_type": "code",
   "execution_count": null,
   "id": "molecular-turkish",
   "metadata": {},
   "outputs": [
    {
     "data": {
      "text/plain": [
       "99"
      ]
     },
     "execution_count": 100,
     "metadata": {},
     "output_type": "execute_result"
    }
   ],
   "source": [
    "panser.jason"
   ]
  },
  {
   "cell_type": "code",
   "execution_count": null,
   "id": "active-contact",
   "metadata": {},
   "outputs": [
    {
     "data": {
      "text/plain": [
       "99"
      ]
     },
     "execution_count": 101,
     "metadata": {},
     "output_type": "execute_result"
    }
   ],
   "source": [
    "panser[\"jason\"]"
   ]
  },
  {
   "cell_type": "code",
   "execution_count": null,
   "id": "fifteen-lingerie",
   "metadata": {},
   "outputs": [
    {
     "data": {
      "text/plain": [
       "orion    150\n",
       "adam     145\n",
       "dtype: int64"
      ]
     },
     "execution_count": 103,
     "metadata": {},
     "output_type": "execute_result"
    }
   ],
   "source": [
    "panser[[\"orion\",\"adam\"]]"
   ]
  },
  {
   "cell_type": "code",
   "execution_count": null,
   "id": "assured-trace",
   "metadata": {},
   "outputs": [
    {
     "data": {
      "text/plain": [
       "orion    150\n",
       "jason     99\n",
       "adam     145\n",
       "dtype: int64"
      ]
     },
     "execution_count": 104,
     "metadata": {},
     "output_type": "execute_result"
    }
   ],
   "source": [
    "panser[\"orion\":\"adam\"]"
   ]
  },
  {
   "cell_type": "code",
   "execution_count": null,
   "id": "intended-tender",
   "metadata": {},
   "outputs": [
    {
     "data": {
      "text/plain": [
       "orion    150\n",
       "jason     99\n",
       "adam     145\n",
       "dtype: int64"
      ]
     },
     "execution_count": 106,
     "metadata": {},
     "output_type": "execute_result"
    }
   ],
   "source": [
    "panser[2:5]"
   ]
  },
  {
   "cell_type": "code",
   "execution_count": null,
   "id": "younger-therapist",
   "metadata": {},
   "outputs": [
    {
     "data": {
      "text/plain": [
       "Index(['terry', 'micheal', 'orion', 'jason', 'adam', 'thomas', 'zack'], dtype='object')"
      ]
     },
     "execution_count": 107,
     "metadata": {},
     "output_type": "execute_result"
    }
   ],
   "source": [
    "panser.keys()"
   ]
  },
  {
   "cell_type": "code",
   "execution_count": null,
   "id": "educational-calgary",
   "metadata": {},
   "outputs": [
    {
     "data": {
      "text/plain": [
       "Index(['terry', 'micheal', 'orion', 'jason', 'adam', 'thomas', 'zack'], dtype='object')"
      ]
     },
     "execution_count": 108,
     "metadata": {},
     "output_type": "execute_result"
    }
   ],
   "source": [
    "panser.index"
   ]
  },
  {
   "cell_type": "code",
   "execution_count": null,
   "id": "great-resolution",
   "metadata": {},
   "outputs": [
    {
     "data": {
      "text/plain": [
       "array([121, 200, 150,  99, 145, 120, 180], dtype=int64)"
      ]
     },
     "execution_count": 110,
     "metadata": {},
     "output_type": "execute_result"
    }
   ],
   "source": [
    "panser.values"
   ]
  },
  {
   "cell_type": "code",
   "execution_count": null,
   "id": "resident-information",
   "metadata": {},
   "outputs": [
    {
     "data": {
      "text/plain": [
       "99"
      ]
     },
     "execution_count": 114,
     "metadata": {},
     "output_type": "execute_result"
    }
   ],
   "source": [
    "(panser.values)[3]"
   ]
  },
  {
   "cell_type": "code",
   "execution_count": null,
   "id": "disturbed-roberts",
   "metadata": {},
   "outputs": [
    {
     "data": {
      "text/plain": [
       "True"
      ]
     },
     "execution_count": 115,
     "metadata": {},
     "output_type": "execute_result"
    }
   ],
   "source": [
    "panser"
   ]
  },
  {
   "cell_type": "code",
   "execution_count": null,
   "id": "afraid-logic",
   "metadata": {},
   "outputs": [
    {
     "data": {
      "text/plain": [
       "<zip at 0x2159a5b04c0>"
      ]
     },
     "execution_count": 111,
     "metadata": {},
     "output_type": "execute_result"
    }
   ],
   "source": [
    "panser.items()"
   ]
  },
  {
   "cell_type": "code",
   "execution_count": null,
   "id": "entitled-style",
   "metadata": {},
   "outputs": [
    {
     "data": {
      "text/plain": [
       "[('terry', 121),\n",
       " ('micheal', 200),\n",
       " ('orion', 150),\n",
       " ('jason', 99),\n",
       " ('adam', 145),\n",
       " ('thomas', 120),\n",
       " ('zack', 180)]"
      ]
     },
     "execution_count": 116,
     "metadata": {},
     "output_type": "execute_result"
    }
   ],
   "source": [
    "list(panser.items())"
   ]
  },
  {
   "cell_type": "code",
   "execution_count": 131,
   "id": "tight-coalition",
   "metadata": {},
   "outputs": [
    {
     "ename": "NameError",
     "evalue": "name 'panser' is not defined",
     "output_type": "error",
     "traceback": [
      "\u001b[1;31m---------------------------------------------------------------------------\u001b[0m",
      "\u001b[1;31mNameError\u001b[0m                                 Traceback (most recent call last)",
      "\u001b[1;32m~\\AppData\\Local\\Temp/ipykernel_5388/179912849.py\u001b[0m in \u001b[0;36m<module>\u001b[1;34m\u001b[0m\n\u001b[1;32m----> 1\u001b[1;33m \u001b[1;32mfor\u001b[0m \u001b[0mkey\u001b[0m\u001b[1;33m,\u001b[0m \u001b[0mvalue\u001b[0m \u001b[1;32min\u001b[0m \u001b[0mpanser\u001b[0m\u001b[1;33m.\u001b[0m\u001b[0mitems\u001b[0m\u001b[1;33m(\u001b[0m\u001b[1;33m)\u001b[0m\u001b[1;33m:\u001b[0m\u001b[1;33m\u001b[0m\u001b[1;33m\u001b[0m\u001b[0m\n\u001b[0m\u001b[0;32m      2\u001b[0m     \u001b[0mprint\u001b[0m\u001b[1;33m(\u001b[0m\u001b[1;34m\"key: \"\u001b[0m\u001b[1;33m,\u001b[0m\u001b[0mkey\u001b[0m\u001b[1;33m,\u001b[0m \u001b[1;34m\"\\t value:\"\u001b[0m\u001b[1;33m,\u001b[0m\u001b[0mvalue\u001b[0m \u001b[1;33m)\u001b[0m\u001b[1;33m\u001b[0m\u001b[1;33m\u001b[0m\u001b[0m\n",
      "\u001b[1;31mNameError\u001b[0m: name 'panser' is not defined"
     ]
    }
   ],
   "source": [
    "for key, value in panser.items():\n",
    "    print(\"key: \",key, \"\\t value:\",value )"
   ]
  },
  {
   "cell_type": "code",
   "execution_count": 132,
   "id": "aggressive-plenty",
   "metadata": {},
   "outputs": [
    {
     "ename": "NameError",
     "evalue": "name 'panser' is not defined",
     "output_type": "error",
     "traceback": [
      "\u001b[1;31m---------------------------------------------------------------------------\u001b[0m",
      "\u001b[1;31mNameError\u001b[0m                                 Traceback (most recent call last)",
      "\u001b[1;32m~\\AppData\\Local\\Temp/ipykernel_5388/1778469653.py\u001b[0m in \u001b[0;36m<module>\u001b[1;34m\u001b[0m\n\u001b[1;32m----> 1\u001b[1;33m \u001b[1;34m\"adam\"\u001b[0m \u001b[1;32min\u001b[0m \u001b[0mpanser\u001b[0m\u001b[1;33m\u001b[0m\u001b[1;33m\u001b[0m\u001b[0m\n\u001b[0m",
      "\u001b[1;31mNameError\u001b[0m: name 'panser' is not defined"
     ]
    }
   ],
   "source": [
    "\"adam\" in panser"
   ]
  },
  {
   "cell_type": "code",
   "execution_count": null,
   "id": "personal-lodging",
   "metadata": {},
   "outputs": [
    {
     "ename": "NameError",
     "evalue": "name 'panser' is not defined",
     "output_type": "error",
     "traceback": [
      "\u001b[1;31m---------------------------------------------------------------------------\u001b[0m",
      "\u001b[1;31mNameError\u001b[0m                                 Traceback (most recent call last)",
      "\u001b[1;32m~\\AppData\\Local\\Temp/ipykernel_5388/1211730784.py\u001b[0m in \u001b[0;36m<module>\u001b[1;34m\u001b[0m\n\u001b[1;32m----> 1\u001b[1;33m \u001b[1;34m\"smith\"\u001b[0m \u001b[1;32min\u001b[0m \u001b[0mpanser\u001b[0m\u001b[1;33m\u001b[0m\u001b[1;33m\u001b[0m\u001b[0m\n\u001b[0m",
      "\u001b[1;31mNameError\u001b[0m: name 'panser' is not defined"
     ]
    }
   ],
   "source": [
    "\"smith\" in panser"
   ]
  },
  {
   "cell_type": "code",
   "execution_count": null,
   "id": "technological-latin",
   "metadata": {},
   "outputs": [
    {
     "data": {
      "text/plain": [
       "False"
      ]
     },
     "execution_count": 122,
     "metadata": {},
     "output_type": "execute_result"
    }
   ],
   "source": [
    "121 in panser"
   ]
  },
  {
   "cell_type": "code",
   "execution_count": null,
   "id": "collective-clock",
   "metadata": {},
   "outputs": [
    {
     "data": {
      "text/plain": [
       "True"
      ]
     },
     "execution_count": 124,
     "metadata": {},
     "output_type": "execute_result"
    }
   ],
   "source": [
    "121 in panser.values"
   ]
  },
  {
   "cell_type": "code",
   "execution_count": null,
   "id": "intensive-newspaper",
   "metadata": {},
   "outputs": [
    {
     "data": {
      "text/plain": [
       "terry       True\n",
       "micheal    False\n",
       "orion      False\n",
       "jason       True\n",
       "adam       False\n",
       "thomas     False\n",
       "zack       False\n",
       "dtype: bool"
      ]
     },
     "execution_count": 128,
     "metadata": {},
     "output_type": "execute_result"
    }
   ],
   "source": [
    "panser.isin([121,99])"
   ]
  },
  {
   "cell_type": "code",
   "execution_count": null,
   "id": "broadband-disney",
   "metadata": {},
   "outputs": [
    {
     "data": {
      "text/plain": [
       "terry      121\n",
       "micheal    200\n",
       "orion      150\n",
       "jason       99\n",
       "adam       145\n",
       "thomas     120\n",
       "zack       180\n",
       "dtype: int64"
      ]
     },
     "execution_count": 129,
     "metadata": {},
     "output_type": "execute_result"
    }
   ],
   "source": [
    "panser"
   ]
  },
  {
   "cell_type": "code",
   "execution_count": null,
   "id": "designed-princess",
   "metadata": {},
   "outputs": [
    {
     "data": {
      "text/plain": [
       "terry      121\n",
       "micheal    200\n",
       "orion      150\n",
       "jason      190\n",
       "adam       145\n",
       "thomas     120\n",
       "zack       180\n",
       "dtype: int64"
      ]
     },
     "execution_count": 130,
     "metadata": {},
     "output_type": "execute_result"
    }
   ],
   "source": [
    "#  panser[\"json\"] = 190\n",
    "panser.jason = 190\n",
    "panser"
   ]
  },
  {
   "cell_type": "code",
   "execution_count": null,
   "id": "amino-sarah",
   "metadata": {},
   "outputs": [
    {
     "data": {
      "text/plain": [
       "terry      False\n",
       "micheal     True\n",
       "orion      False\n",
       "jason       True\n",
       "adam       False\n",
       "thomas     False\n",
       "zack        True\n",
       "dtype: bool"
      ]
     },
     "execution_count": 131,
     "metadata": {},
     "output_type": "execute_result"
    }
   ],
   "source": [
    "panser >= 180"
   ]
  },
  {
   "cell_type": "code",
   "execution_count": null,
   "id": "engaged-summit",
   "metadata": {},
   "outputs": [
    {
     "data": {
      "text/plain": [
       "micheal    200\n",
       "jason      190\n",
       "zack       180\n",
       "dtype: int64"
      ]
     },
     "execution_count": 132,
     "metadata": {},
     "output_type": "execute_result"
    }
   ],
   "source": [
    "panser[ panser >=180 ]"
   ]
  },
  {
   "cell_type": "code",
   "execution_count": null,
   "id": "quarterly-intermediate",
   "metadata": {},
   "outputs": [
    {
     "data": {
      "text/plain": [
       "terry      121\n",
       "micheal    155\n",
       "orion      150\n",
       "jason      155\n",
       "adam       145\n",
       "thomas     120\n",
       "zack       155\n",
       "dtype: int64"
      ]
     },
     "execution_count": 133,
     "metadata": {},
     "output_type": "execute_result"
    }
   ],
   "source": [
    "panser[ panser >=180 ] = 155\n",
    "panser"
   ]
  },
  {
   "cell_type": "code",
   "execution_count": null,
   "id": "welcome-arizona",
   "metadata": {},
   "outputs": [],
   "source": []
  }
 ],
 "metadata": {
  "interpreter": {
   "hash": "176008327093c58d2a75474fbdc883dc533d24f056eea3c3df23244de1112b8f"
  },
  "kernelspec": {
   "display_name": "Python 3.9.6 64-bit ('my-env': conda)",
   "name": "python3"
  },
  "language_info": {
   "codemirror_mode": {
    "name": "ipython",
    "version": 3
   },
   "file_extension": ".py",
   "mimetype": "text/x-python",
   "name": "python",
   "nbconvert_exporter": "python",
   "pygments_lexer": "ipython3",
   "version": "3.9.6"
  }
 },
 "nbformat": 4,
 "nbformat_minor": 5
}
