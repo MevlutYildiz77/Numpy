{
 "cells": [
  {
   "cell_type": "code",
   "execution_count": 3,
   "source": [
    "import numpy as np\r\n",
    "np.empty((2,2,2))"
   ],
   "outputs": [
    {
     "output_type": "execute_result",
     "data": {
      "text/plain": [
       "array([[[1.77978809e+241, 3.30586060e+257],\n",
       "        [2.28725472e-308, 3.38460762e+125]],\n",
       "\n",
       "       [[7.20091312e+252, 1.33360328e+241],\n",
       "        [4.31571504e-310, 3.92810296e-273]]])"
      ]
     },
     "metadata": {},
     "execution_count": 3
    }
   ],
   "metadata": {}
  },
  {
   "cell_type": "code",
   "execution_count": 4,
   "source": [
    "np.random.rand()"
   ],
   "outputs": [
    {
     "output_type": "execute_result",
     "data": {
      "text/plain": [
       "array([[[0.33789919],\n",
       "        [0.89204865]],\n",
       "\n",
       "       [[0.61366493],\n",
       "        [0.01623351]],\n",
       "\n",
       "       [[0.96239427],\n",
       "        [0.59136598]]])"
      ]
     },
     "metadata": {},
     "execution_count": 4
    }
   ],
   "metadata": {}
  },
  {
   "cell_type": "code",
   "execution_count": 5,
   "source": [
    "np.random.randint(0,10,size=(5,5))"
   ],
   "outputs": [
    {
     "output_type": "execute_result",
     "data": {
      "text/plain": [
       "array([[7, 5, 8, 2, 6],\n",
       "       [1, 5, 6, 4, 3],\n",
       "       [7, 4, 9, 3, 9],\n",
       "       [4, 0, 9, 3, 0],\n",
       "       [0, 6, 6, 5, 1]])"
      ]
     },
     "metadata": {},
     "execution_count": 5
    }
   ],
   "metadata": {}
  },
  {
   "cell_type": "markdown",
   "source": [
    "Access all raws and all columns"
   ],
   "metadata": {}
  },
  {
   "cell_type": "code",
   "execution_count": 9,
   "source": [
    "a = np.random.randint(0,10,size=(5,5))\r\n",
    "a[:,:]"
   ],
   "outputs": [
    {
     "output_type": "execute_result",
     "data": {
      "text/plain": [
       "array([[7, 0, 7, 3, 4],\n",
       "       [6, 7, 8, 0, 1],\n",
       "       [7, 9, 3, 3, 1],\n",
       "       [7, 8, 4, 5, 9],\n",
       "       [4, 8, 5, 0, 8]])"
      ]
     },
     "metadata": {},
     "execution_count": 9
    }
   ],
   "metadata": {}
  },
  {
   "cell_type": "code",
   "execution_count": 11,
   "source": [
    "# particular row but all columns\r\n",
    "a[[0,4,2],:]"
   ],
   "outputs": [
    {
     "output_type": "execute_result",
     "data": {
      "text/plain": [
       "array([[7, 0, 7, 3, 4],\n",
       "       [4, 8, 5, 0, 8],\n",
       "       [7, 9, 3, 3, 1]])"
      ]
     },
     "metadata": {},
     "execution_count": 11
    }
   ],
   "metadata": {}
  },
  {
   "cell_type": "code",
   "execution_count": 14,
   "source": [
    "#all row but particular columns\r\n",
    "a[:,1:4]"
   ],
   "outputs": [
    {
     "output_type": "execute_result",
     "data": {
      "text/plain": [
       "array([[0, 7, 3],\n",
       "       [7, 8, 0],\n",
       "       [9, 3, 3],\n",
       "       [8, 4, 5],\n",
       "       [8, 5, 0]])"
      ]
     },
     "metadata": {},
     "execution_count": 14
    }
   ],
   "metadata": {}
  },
  {
   "cell_type": "code",
   "execution_count": 10,
   "source": [
    "# first row but all columns\r\n",
    "a[0,:]"
   ],
   "outputs": [
    {
     "output_type": "execute_result",
     "data": {
      "text/plain": [
       "array([7, 0, 7, 3, 4])"
      ]
     },
     "metadata": {},
     "execution_count": 10
    }
   ],
   "metadata": {}
  },
  {
   "cell_type": "code",
   "execution_count": 7,
   "source": [
    "np.linspace(1, 20, 15)"
   ],
   "outputs": [
    {
     "output_type": "execute_result",
     "data": {
      "text/plain": [
       "array([ 1.        ,  2.35714286,  3.71428571,  5.07142857,  6.42857143,\n",
       "        7.78571429,  9.14285714, 10.5       , 11.85714286, 13.21428571,\n",
       "       14.57142857, 15.92857143, 17.28571429, 18.64285714, 20.        ])"
      ]
     },
     "metadata": {},
     "execution_count": 7
    }
   ],
   "metadata": {}
  },
  {
   "cell_type": "code",
   "execution_count": null,
   "source": [],
   "outputs": [],
   "metadata": {}
  }
 ],
 "metadata": {
  "orig_nbformat": 4,
  "language_info": {
   "name": "python",
   "version": "3.8.8",
   "mimetype": "text/x-python",
   "codemirror_mode": {
    "name": "ipython",
    "version": 3
   },
   "pygments_lexer": "ipython3",
   "nbconvert_exporter": "python",
   "file_extension": ".py"
  },
  "kernelspec": {
   "name": "python3",
   "display_name": "Python 3.8.8 64-bit ('base': conda)"
  },
  "interpreter": {
   "hash": "37eb40c3388cfde35488e2d005b0d69ca91ddeff8a429754d4da636d3f888e5e"
  }
 },
 "nbformat": 4,
 "nbformat_minor": 2
}